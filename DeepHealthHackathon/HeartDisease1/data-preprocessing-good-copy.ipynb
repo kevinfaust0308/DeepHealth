{
 "cells": [
  {
   "cell_type": "code",
   "execution_count": 1,
   "metadata": {
    "collapsed": true,
    "deletable": true,
    "editable": true
   },
   "outputs": [],
   "source": [
    "import pandas as pd\n",
    "import numpy as np\n",
    "import seaborn as sns\n",
    "import matplotlib.pyplot as plt\n",
    "%matplotlib inline"
   ]
  },
  {
   "cell_type": "markdown",
   "metadata": {},
   "source": [
    "# data pre-processing"
   ]
  },
  {
   "cell_type": "code",
   "execution_count": 367,
   "metadata": {
    "collapsed": false,
    "deletable": true,
    "editable": true
   },
   "outputs": [
    {
     "data": {
      "text/html": [
       "<div>\n",
       "<table border=\"1\" class=\"dataframe\">\n",
       "  <thead>\n",
       "    <tr style=\"text-align: right;\">\n",
       "      <th></th>\n",
       "      <th>age</th>\n",
       "      <th>sex</th>\n",
       "      <th>cp</th>\n",
       "      <th>trestbps</th>\n",
       "      <th>chol</th>\n",
       "      <th>fbs</th>\n",
       "      <th>restecg</th>\n",
       "      <th>thalach</th>\n",
       "      <th>exang</th>\n",
       "      <th>oldpeak</th>\n",
       "      <th>ca</th>\n",
       "      <th>slope</th>\n",
       "      <th>thal</th>\n",
       "      <th>num</th>\n",
       "    </tr>\n",
       "  </thead>\n",
       "  <tbody>\n",
       "    <tr>\n",
       "      <th>0</th>\n",
       "      <td>36</td>\n",
       "      <td>1</td>\n",
       "      <td>2</td>\n",
       "      <td>120</td>\n",
       "      <td>267</td>\n",
       "      <td>0</td>\n",
       "      <td>0</td>\n",
       "      <td>160</td>\n",
       "      <td>0</td>\n",
       "      <td>3</td>\n",
       "      <td>2</td>\n",
       "      <td>-9</td>\n",
       "      <td>-9</td>\n",
       "      <td>1</td>\n",
       "    </tr>\n",
       "    <tr>\n",
       "      <th>3</th>\n",
       "      <td>48</td>\n",
       "      <td>1</td>\n",
       "      <td>2</td>\n",
       "      <td>100</td>\n",
       "      <td>-9</td>\n",
       "      <td>0</td>\n",
       "      <td>0</td>\n",
       "      <td>100</td>\n",
       "      <td>0</td>\n",
       "      <td>0</td>\n",
       "      <td>-9</td>\n",
       "      <td>-9</td>\n",
       "      <td>-9</td>\n",
       "      <td>0</td>\n",
       "    </tr>\n",
       "    <tr>\n",
       "      <th>4</th>\n",
       "      <td>41</td>\n",
       "      <td>0</td>\n",
       "      <td>2</td>\n",
       "      <td>125</td>\n",
       "      <td>184</td>\n",
       "      <td>0</td>\n",
       "      <td>0</td>\n",
       "      <td>180</td>\n",
       "      <td>0</td>\n",
       "      <td>0</td>\n",
       "      <td>-9</td>\n",
       "      <td>-9</td>\n",
       "      <td>-9</td>\n",
       "      <td>0</td>\n",
       "    </tr>\n",
       "    <tr>\n",
       "      <th>5</th>\n",
       "      <td>58</td>\n",
       "      <td>1</td>\n",
       "      <td>4</td>\n",
       "      <td>120</td>\n",
       "      <td>0</td>\n",
       "      <td>0</td>\n",
       "      <td>2</td>\n",
       "      <td>106</td>\n",
       "      <td>1</td>\n",
       "      <td>1.5</td>\n",
       "      <td>3</td>\n",
       "      <td>?</td>\n",
       "      <td>7</td>\n",
       "      <td>1</td>\n",
       "    </tr>\n",
       "    <tr>\n",
       "      <th>6</th>\n",
       "      <td>53</td>\n",
       "      <td>1</td>\n",
       "      <td>4</td>\n",
       "      <td>140</td>\n",
       "      <td>243</td>\n",
       "      <td>0</td>\n",
       "      <td>0</td>\n",
       "      <td>155</td>\n",
       "      <td>0</td>\n",
       "      <td>0</td>\n",
       "      <td>-9</td>\n",
       "      <td>-9</td>\n",
       "      <td>-9</td>\n",
       "      <td>0</td>\n",
       "    </tr>\n",
       "  </tbody>\n",
       "</table>\n",
       "</div>"
      ],
      "text/plain": [
       "   age  sex  cp trestbps chol fbs restecg thalach exang oldpeak  ca slope  \\\n",
       "0   36    1   2      120  267   0       0     160     0       3   2    -9   \n",
       "3   48    1   2      100   -9   0       0     100     0       0  -9    -9   \n",
       "4   41    0   2      125  184   0       0     180     0       0  -9    -9   \n",
       "5   58    1   4      120    0   0       2     106     1     1.5   3     ?   \n",
       "6   53    1   4      140  243   0       0     155     0       0  -9    -9   \n",
       "\n",
       "  thal  num  \n",
       "0   -9    1  \n",
       "3   -9    0  \n",
       "4   -9    0  \n",
       "5    7    1  \n",
       "6   -9    0  "
      ]
     },
     "execution_count": 367,
     "metadata": {},
     "output_type": "execute_result"
    }
   ],
   "source": [
    "# training data set\n",
    "df_train = pd.read_csv('training_data.csv')\n",
    "\n",
    "# our label to predict is 'num' which will be either 0 or 1\n",
    "# remove the other values\n",
    "df_train = df_train[(df_train['num'] == 0) | (df_train['num'] == 1)]\n",
    "\n",
    "# submission data set\n",
    "df_submission = pd.read_csv('submission_data.csv')\n",
    "\n",
    "# remove 'id' column from training as its useless for training\n",
    "df_train.drop('id', axis=1,inplace=True)\n",
    "\n",
    "# view first few rows of training dataset\n",
    "df_train.head()"
   ]
  },
  {
   "cell_type": "markdown",
   "metadata": {},
   "source": [
    "categorical: sex, cp, fbs, restecg, exang, ca, thal, slope\n",
    "\n",
    "numerical: age, trestbps, chol, thalach, oldpeak, \n"
   ]
  },
  {
   "cell_type": "code",
   "execution_count": 368,
   "metadata": {
    "collapsed": false
   },
   "outputs": [],
   "source": [
    "# we know that values of '-9' and '?' are missing so make it a NaN\n",
    "\n",
    "def make_nan(s):\n",
    "    if s == '-9' or s == '?':\n",
    "        s = np.nan\n",
    "    return float(s)\n",
    "\n",
    "df_train = df_train.applymap(make_nan)\n",
    "df_submission = df_submission.applymap(make_nan)\n",
    "# list containing both datasets\n",
    "combine = [df_train, df_submission]"
   ]
  },
  {
   "cell_type": "code",
   "execution_count": 369,
   "metadata": {
    "collapsed": false
   },
   "outputs": [
    {
     "name": "stdout",
     "output_type": "stream",
     "text": [
      "<class 'pandas.core.frame.DataFrame'>\n",
      "Int64Index: 545 entries, 0 to 819\n",
      "Data columns (total 14 columns):\n",
      "age         545 non-null float64\n",
      "sex         545 non-null float64\n",
      "cp          545 non-null float64\n",
      "trestbps    516 non-null float64\n",
      "chol        528 non-null float64\n",
      "fbs         493 non-null float64\n",
      "restecg     544 non-null float64\n",
      "thalach     516 non-null float64\n",
      "exang       516 non-null float64\n",
      "oldpeak     513 non-null float64\n",
      "ca          331 non-null float64\n",
      "slope       204 non-null float64\n",
      "thal        258 non-null float64\n",
      "num         545 non-null float64\n",
      "dtypes: float64(14)\n",
      "memory usage: 63.9 KB\n"
     ]
    }
   ],
   "source": [
    "df_train.info()"
   ]
  },
  {
   "cell_type": "code",
   "execution_count": 370,
   "metadata": {
    "collapsed": true
   },
   "outputs": [],
   "source": [
    "# dropping columns because these have too many missing values\n",
    "drop = ['ca', 'slope', 'thal']\n",
    "for df in combine:\n",
    "    for col in drop:\n",
    "        df.drop(col, axis=1, inplace=True)"
   ]
  },
  {
   "cell_type": "code",
   "execution_count": 371,
   "metadata": {
    "collapsed": false
   },
   "outputs": [
    {
     "data": {
      "text/html": [
       "<div>\n",
       "<table border=\"1\" class=\"dataframe\">\n",
       "  <thead>\n",
       "    <tr style=\"text-align: right;\">\n",
       "      <th></th>\n",
       "      <th>age</th>\n",
       "      <th>sex</th>\n",
       "      <th>cp</th>\n",
       "      <th>trestbps</th>\n",
       "      <th>chol</th>\n",
       "      <th>fbs</th>\n",
       "      <th>restecg</th>\n",
       "      <th>thalach</th>\n",
       "      <th>exang</th>\n",
       "      <th>oldpeak</th>\n",
       "      <th>num</th>\n",
       "    </tr>\n",
       "  </thead>\n",
       "  <tbody>\n",
       "    <tr>\n",
       "      <th>55</th>\n",
       "      <td>63.0</td>\n",
       "      <td>1.0</td>\n",
       "      <td>2.0</td>\n",
       "      <td>NaN</td>\n",
       "      <td>165.0</td>\n",
       "      <td>0.0</td>\n",
       "      <td>1.0</td>\n",
       "      <td>NaN</td>\n",
       "      <td>NaN</td>\n",
       "      <td>NaN</td>\n",
       "      <td>0.0</td>\n",
       "    </tr>\n",
       "    <tr>\n",
       "      <th>61</th>\n",
       "      <td>72.0</td>\n",
       "      <td>1.0</td>\n",
       "      <td>4.0</td>\n",
       "      <td>NaN</td>\n",
       "      <td>211.0</td>\n",
       "      <td>0.0</td>\n",
       "      <td>0.0</td>\n",
       "      <td>NaN</td>\n",
       "      <td>NaN</td>\n",
       "      <td>NaN</td>\n",
       "      <td>1.0</td>\n",
       "    </tr>\n",
       "    <tr>\n",
       "      <th>79</th>\n",
       "      <td>55.0</td>\n",
       "      <td>1.0</td>\n",
       "      <td>3.0</td>\n",
       "      <td>NaN</td>\n",
       "      <td>NaN</td>\n",
       "      <td>0.0</td>\n",
       "      <td>1.0</td>\n",
       "      <td>NaN</td>\n",
       "      <td>NaN</td>\n",
       "      <td>NaN</td>\n",
       "      <td>0.0</td>\n",
       "    </tr>\n",
       "    <tr>\n",
       "      <th>87</th>\n",
       "      <td>55.0</td>\n",
       "      <td>1.0</td>\n",
       "      <td>4.0</td>\n",
       "      <td>NaN</td>\n",
       "      <td>204.0</td>\n",
       "      <td>1.0</td>\n",
       "      <td>1.0</td>\n",
       "      <td>NaN</td>\n",
       "      <td>NaN</td>\n",
       "      <td>NaN</td>\n",
       "      <td>1.0</td>\n",
       "    </tr>\n",
       "    <tr>\n",
       "      <th>248</th>\n",
       "      <td>54.0</td>\n",
       "      <td>1.0</td>\n",
       "      <td>2.0</td>\n",
       "      <td>NaN</td>\n",
       "      <td>182.0</td>\n",
       "      <td>0.0</td>\n",
       "      <td>1.0</td>\n",
       "      <td>NaN</td>\n",
       "      <td>NaN</td>\n",
       "      <td>NaN</td>\n",
       "      <td>0.0</td>\n",
       "    </tr>\n",
       "  </tbody>\n",
       "</table>\n",
       "</div>"
      ],
      "text/plain": [
       "      age  sex   cp  trestbps   chol  fbs  restecg  thalach  exang  oldpeak  \\\n",
       "55   63.0  1.0  2.0       NaN  165.0  0.0      1.0      NaN    NaN      NaN   \n",
       "61   72.0  1.0  4.0       NaN  211.0  0.0      0.0      NaN    NaN      NaN   \n",
       "79   55.0  1.0  3.0       NaN    NaN  0.0      1.0      NaN    NaN      NaN   \n",
       "87   55.0  1.0  4.0       NaN  204.0  1.0      1.0      NaN    NaN      NaN   \n",
       "248  54.0  1.0  2.0       NaN  182.0  0.0      1.0      NaN    NaN      NaN   \n",
       "\n",
       "     num  \n",
       "55   0.0  \n",
       "61   1.0  \n",
       "79   0.0  \n",
       "87   1.0  \n",
       "248  0.0  "
      ]
     },
     "execution_count": 371,
     "metadata": {},
     "output_type": "execute_result"
    }
   ],
   "source": [
    "# sometimes rows with null in a single column are null in other columns as well\n",
    "# taking a look at trestbps\n",
    "\n",
    "df_train[df_train['trestbps'].isnull()].head()"
   ]
  },
  {
   "cell_type": "code",
   "execution_count": 372,
   "metadata": {
    "collapsed": false
   },
   "outputs": [
    {
     "name": "stdout",
     "output_type": "stream",
     "text": [
      "<class 'pandas.core.frame.DataFrame'>\n",
      "Int64Index: 516 entries, 0 to 819\n",
      "Data columns (total 11 columns):\n",
      "age         516 non-null float64\n",
      "sex         516 non-null float64\n",
      "cp          516 non-null float64\n",
      "trestbps    516 non-null float64\n",
      "chol        501 non-null float64\n",
      "fbs         464 non-null float64\n",
      "restecg     515 non-null float64\n",
      "thalach     516 non-null float64\n",
      "exang       516 non-null float64\n",
      "oldpeak     512 non-null float64\n",
      "num         516 non-null float64\n",
      "dtypes: float64(11)\n",
      "memory usage: 48.4 KB\n"
     ]
    }
   ],
   "source": [
    "# we can see that rows null in trestbps are also null in the other columns\n",
    "# oldpeak, exang, thalach, and trestbps have very similar number of missing values\n",
    "\n",
    "df_train = df_train[df_train['trestbps'].notnull()]\n",
    "combine[0] = df_train\n",
    "\n",
    "# we can see that we were right. now we have less missing in all columns\n",
    "df_train.info()"
   ]
  },
  {
   "cell_type": "code",
   "execution_count": 373,
   "metadata": {
    "collapsed": false
   },
   "outputs": [
    {
     "data": {
      "text/html": [
       "<div>\n",
       "<table border=\"1\" class=\"dataframe\">\n",
       "  <thead>\n",
       "    <tr style=\"text-align: right;\">\n",
       "      <th></th>\n",
       "      <th>age</th>\n",
       "      <th>sex</th>\n",
       "      <th>cp</th>\n",
       "      <th>trestbps</th>\n",
       "      <th>chol</th>\n",
       "      <th>fbs</th>\n",
       "      <th>restecg</th>\n",
       "      <th>thalach</th>\n",
       "      <th>exang</th>\n",
       "      <th>oldpeak</th>\n",
       "      <th>num</th>\n",
       "    </tr>\n",
       "  </thead>\n",
       "  <tbody>\n",
       "    <tr>\n",
       "      <th>count</th>\n",
       "      <td>516.000000</td>\n",
       "      <td>516.000000</td>\n",
       "      <td>516.000000</td>\n",
       "      <td>516.000000</td>\n",
       "      <td>501.000000</td>\n",
       "      <td>464.000000</td>\n",
       "      <td>515.000000</td>\n",
       "      <td>516.000000</td>\n",
       "      <td>516.000000</td>\n",
       "      <td>512.000000</td>\n",
       "      <td>516.000000</td>\n",
       "    </tr>\n",
       "    <tr>\n",
       "      <th>mean</th>\n",
       "      <td>51.387597</td>\n",
       "      <td>0.711240</td>\n",
       "      <td>3.007752</td>\n",
       "      <td>129.885659</td>\n",
       "      <td>208.664671</td>\n",
       "      <td>0.120690</td>\n",
       "      <td>0.559223</td>\n",
       "      <td>144.379845</td>\n",
       "      <td>0.250000</td>\n",
       "      <td>0.548828</td>\n",
       "      <td>0.313953</td>\n",
       "    </tr>\n",
       "    <tr>\n",
       "      <th>std</th>\n",
       "      <td>9.415385</td>\n",
       "      <td>0.453626</td>\n",
       "      <td>0.951207</td>\n",
       "      <td>17.676612</td>\n",
       "      <td>98.302062</td>\n",
       "      <td>0.326118</td>\n",
       "      <td>0.819205</td>\n",
       "      <td>24.567543</td>\n",
       "      <td>0.433433</td>\n",
       "      <td>0.827156</td>\n",
       "      <td>0.464548</td>\n",
       "    </tr>\n",
       "    <tr>\n",
       "      <th>min</th>\n",
       "      <td>28.000000</td>\n",
       "      <td>0.000000</td>\n",
       "      <td>1.000000</td>\n",
       "      <td>80.000000</td>\n",
       "      <td>0.000000</td>\n",
       "      <td>0.000000</td>\n",
       "      <td>0.000000</td>\n",
       "      <td>69.000000</td>\n",
       "      <td>0.000000</td>\n",
       "      <td>-2.600000</td>\n",
       "      <td>0.000000</td>\n",
       "    </tr>\n",
       "    <tr>\n",
       "      <th>25%</th>\n",
       "      <td>44.000000</td>\n",
       "      <td>0.000000</td>\n",
       "      <td>2.000000</td>\n",
       "      <td>120.000000</td>\n",
       "      <td>192.000000</td>\n",
       "      <td>0.000000</td>\n",
       "      <td>0.000000</td>\n",
       "      <td>125.750000</td>\n",
       "      <td>0.000000</td>\n",
       "      <td>0.000000</td>\n",
       "      <td>0.000000</td>\n",
       "    </tr>\n",
       "    <tr>\n",
       "      <th>50%</th>\n",
       "      <td>52.000000</td>\n",
       "      <td>1.000000</td>\n",
       "      <td>3.000000</td>\n",
       "      <td>130.000000</td>\n",
       "      <td>225.000000</td>\n",
       "      <td>0.000000</td>\n",
       "      <td>0.000000</td>\n",
       "      <td>147.500000</td>\n",
       "      <td>0.000000</td>\n",
       "      <td>0.000000</td>\n",
       "      <td>0.000000</td>\n",
       "    </tr>\n",
       "    <tr>\n",
       "      <th>75%</th>\n",
       "      <td>58.000000</td>\n",
       "      <td>1.000000</td>\n",
       "      <td>4.000000</td>\n",
       "      <td>140.000000</td>\n",
       "      <td>267.000000</td>\n",
       "      <td>0.000000</td>\n",
       "      <td>1.000000</td>\n",
       "      <td>163.000000</td>\n",
       "      <td>0.250000</td>\n",
       "      <td>1.000000</td>\n",
       "      <td>1.000000</td>\n",
       "    </tr>\n",
       "    <tr>\n",
       "      <th>max</th>\n",
       "      <td>76.000000</td>\n",
       "      <td>1.000000</td>\n",
       "      <td>4.000000</td>\n",
       "      <td>192.000000</td>\n",
       "      <td>564.000000</td>\n",
       "      <td>1.000000</td>\n",
       "      <td>2.000000</td>\n",
       "      <td>202.000000</td>\n",
       "      <td>1.000000</td>\n",
       "      <td>4.200000</td>\n",
       "      <td>1.000000</td>\n",
       "    </tr>\n",
       "  </tbody>\n",
       "</table>\n",
       "</div>"
      ],
      "text/plain": [
       "              age         sex          cp    trestbps        chol         fbs  \\\n",
       "count  516.000000  516.000000  516.000000  516.000000  501.000000  464.000000   \n",
       "mean    51.387597    0.711240    3.007752  129.885659  208.664671    0.120690   \n",
       "std      9.415385    0.453626    0.951207   17.676612   98.302062    0.326118   \n",
       "min     28.000000    0.000000    1.000000   80.000000    0.000000    0.000000   \n",
       "25%     44.000000    0.000000    2.000000  120.000000  192.000000    0.000000   \n",
       "50%     52.000000    1.000000    3.000000  130.000000  225.000000    0.000000   \n",
       "75%     58.000000    1.000000    4.000000  140.000000  267.000000    0.000000   \n",
       "max     76.000000    1.000000    4.000000  192.000000  564.000000    1.000000   \n",
       "\n",
       "          restecg     thalach       exang     oldpeak         num  \n",
       "count  515.000000  516.000000  516.000000  512.000000  516.000000  \n",
       "mean     0.559223  144.379845    0.250000    0.548828    0.313953  \n",
       "std      0.819205   24.567543    0.433433    0.827156    0.464548  \n",
       "min      0.000000   69.000000    0.000000   -2.600000    0.000000  \n",
       "25%      0.000000  125.750000    0.000000    0.000000    0.000000  \n",
       "50%      0.000000  147.500000    0.000000    0.000000    0.000000  \n",
       "75%      1.000000  163.000000    0.250000    1.000000    1.000000  \n",
       "max      2.000000  202.000000    1.000000    4.200000    1.000000  "
      ]
     },
     "execution_count": 373,
     "metadata": {},
     "output_type": "execute_result"
    }
   ],
   "source": [
    "df_train.describe()"
   ]
  },
  {
   "cell_type": "markdown",
   "metadata": {},
   "source": [
    "# data analysis"
   ]
  },
  {
   "cell_type": "code",
   "execution_count": 374,
   "metadata": {
    "collapsed": false
   },
   "outputs": [
    {
     "data": {
      "text/html": [
       "<div>\n",
       "<table border=\"1\" class=\"dataframe\">\n",
       "  <thead>\n",
       "    <tr style=\"text-align: right;\">\n",
       "      <th></th>\n",
       "      <th>num</th>\n",
       "    </tr>\n",
       "    <tr>\n",
       "      <th>sex</th>\n",
       "      <th></th>\n",
       "    </tr>\n",
       "  </thead>\n",
       "  <tbody>\n",
       "    <tr>\n",
       "      <th>0.0</th>\n",
       "      <td>0.127517</td>\n",
       "    </tr>\n",
       "    <tr>\n",
       "      <th>1.0</th>\n",
       "      <td>0.389646</td>\n",
       "    </tr>\n",
       "  </tbody>\n",
       "</table>\n",
       "</div>"
      ],
      "text/plain": [
       "          num\n",
       "sex          \n",
       "0.0  0.127517\n",
       "1.0  0.389646"
      ]
     },
     "execution_count": 374,
     "metadata": {},
     "output_type": "execute_result"
    }
   ],
   "source": [
    "# men are more likely to have heart disease\n",
    "df_train[['sex','num']].groupby('sex').mean()"
   ]
  },
  {
   "cell_type": "code",
   "execution_count": 375,
   "metadata": {
    "collapsed": false
   },
   "outputs": [
    {
     "data": {
      "text/html": [
       "<div>\n",
       "<table border=\"1\" class=\"dataframe\">\n",
       "  <thead>\n",
       "    <tr style=\"text-align: right;\">\n",
       "      <th></th>\n",
       "      <th>num</th>\n",
       "    </tr>\n",
       "    <tr>\n",
       "      <th>cp</th>\n",
       "      <th></th>\n",
       "    </tr>\n",
       "  </thead>\n",
       "  <tbody>\n",
       "    <tr>\n",
       "      <th>1.0</th>\n",
       "      <td>0.275862</td>\n",
       "    </tr>\n",
       "    <tr>\n",
       "      <th>2.0</th>\n",
       "      <td>0.083333</td>\n",
       "    </tr>\n",
       "    <tr>\n",
       "      <th>3.0</th>\n",
       "      <td>0.182482</td>\n",
       "    </tr>\n",
       "    <tr>\n",
       "      <th>4.0</th>\n",
       "      <td>0.567961</td>\n",
       "    </tr>\n",
       "  </tbody>\n",
       "</table>\n",
       "</div>"
      ],
      "text/plain": [
       "          num\n",
       "cp           \n",
       "1.0  0.275862\n",
       "2.0  0.083333\n",
       "3.0  0.182482\n",
       "4.0  0.567961"
      ]
     },
     "execution_count": 375,
     "metadata": {},
     "output_type": "execute_result"
    }
   ],
   "source": [
    "# those with asymptomatic chest pain are most likely to have heart disease\n",
    "df_train[['cp','num']].groupby('cp').mean()"
   ]
  },
  {
   "cell_type": "markdown",
   "metadata": {},
   "source": [
    "we see that chest pain type and gender plays a role in deciding whether one has heart disease or not. we can use this fact in our data visualisation"
   ]
  },
  {
   "cell_type": "markdown",
   "metadata": {},
   "source": [
    "### visualise cholesterol levels"
   ]
  },
  {
   "cell_type": "code",
   "execution_count": 376,
   "metadata": {
    "collapsed": false
   },
   "outputs": [
    {
     "data": {
      "text/plain": [
       "<seaborn.axisgrid.FacetGrid at 0x2903b5e0f28>"
      ]
     },
     "execution_count": 376,
     "metadata": {},
     "output_type": "execute_result"
    },
    {
     "data": {
      "image/png": "[encoded data removed]",
      "text/plain": [
       "<matplotlib.figure.Figure at 0x2903b5d5eb8>"
      ]
     },
     "metadata": {},
     "output_type": "display_data"
    }
   ],
   "source": [
    "# visualise chol\n",
    "\n",
    "g=sns.FacetGrid(df_train, 'sex', 'cp')\n",
    "g.map(plt.hist, 'chol', bins=10)"
   ]
  },
  {
   "cell_type": "code",
   "execution_count": 377,
   "metadata": {
    "collapsed": false
   },
   "outputs": [],
   "source": [
    "# fill in missing chol values with median\n",
    "\n",
    "for df in combine:\n",
    "    for cp in range(1,5):\n",
    "        for sex in range(2):\n",
    "            a=df[(df['cp'] == cp) & (df['sex'] == sex)]['chol'].median()\n",
    "            df.loc[(df['cp'] == cp) & (df['sex'] == sex) & (df['chol'].isnull()), 'chol']=a "
   ]
  },
  {
   "cell_type": "code",
   "execution_count": 378,
   "metadata": {
    "collapsed": false
   },
   "outputs": [
    {
     "name": "stdout",
     "output_type": "stream",
     "text": [
      "<class 'pandas.core.frame.DataFrame'>\n",
      "Int64Index: 516 entries, 0 to 819\n",
      "Data columns (total 11 columns):\n",
      "age         516 non-null float64\n",
      "sex         516 non-null float64\n",
      "cp          516 non-null float64\n",
      "trestbps    516 non-null float64\n",
      "chol        516 non-null float64\n",
      "fbs         464 non-null float64\n",
      "restecg     515 non-null float64\n",
      "thalach     516 non-null float64\n",
      "exang       516 non-null float64\n",
      "oldpeak     512 non-null float64\n",
      "num         516 non-null float64\n",
      "dtypes: float64(11)\n",
      "memory usage: 48.4 KB\n"
     ]
    }
   ],
   "source": [
    "df_train.info()"
   ]
  },
  {
   "cell_type": "markdown",
   "metadata": {},
   "source": [
    "### visualise fbs"
   ]
  },
  {
   "cell_type": "code",
   "execution_count": 379,
   "metadata": {
    "collapsed": false
   },
   "outputs": [
    {
     "data": {
      "text/plain": [
       "<seaborn.axisgrid.FacetGrid at 0x2903b3e3b38>"
      ]
     },
     "execution_count": 379,
     "metadata": {},
     "output_type": "execute_result"
    },
    {
     "data": {
      "image/png": "[encoded data removed]",
      "text/plain": [
       "<matplotlib.figure.Figure at 0x2903bbe40b8>"
      ]
     },
     "metadata": {},
     "output_type": "display_data"
    }
   ],
   "source": [
    "g=sns.FacetGrid(df_train, 'sex', 'cp')\n",
    "g.map(sns.countplot, 'fbs')"
   ]
  },
  {
   "cell_type": "code",
   "execution_count": 380,
   "metadata": {
    "collapsed": false
   },
   "outputs": [],
   "source": [
    "# majority have fasting blood sugar <= 120 mg/dl (value of 0)\n",
    "df_train.loc[df_train['fbs'].isnull(), 'fbs'] = 0\n",
    "df_submission.loc[df_submission['fbs'].isnull(), 'fbs'] = 0"
   ]
  },
  {
   "cell_type": "markdown",
   "metadata": {},
   "source": [
    "### fill restecg (single row in training set) with mode"
   ]
  },
  {
   "cell_type": "code",
   "execution_count": 381,
   "metadata": {
    "collapsed": true
   },
   "outputs": [],
   "source": [
    "a=df_train['restecg'].mode()[0]\n",
    "df_train.loc[df_train['restecg'].isnull(), 'restecg'] = a"
   ]
  },
  {
   "cell_type": "markdown",
   "metadata": {},
   "source": [
    "### fill oldpeak, exang, thalach, trestbps with median"
   ]
  },
  {
   "cell_type": "code",
   "execution_count": 382,
   "metadata": {
    "collapsed": true
   },
   "outputs": [],
   "source": [
    "# fill oldpeak, exang, thalach, trestbps with median\n",
    "for df in combine:\n",
    "    for cp in range(1,5):\n",
    "        for sex in range(2):\n",
    "            a=df[(df['cp'] == cp) & (df['sex'] == sex)]['oldpeak'].median()\n",
    "            b=df[(df['cp'] == cp) & (df['sex'] == sex)]['exang'].median()\n",
    "            c=df[(df['cp'] == cp) & (df['sex'] == sex)]['thalach'].median()\n",
    "            d=df[(df['cp'] == cp) & (df['sex'] == sex)]['trestbps'].median()\n",
    "\n",
    "            df.loc[(df['cp'] == cp) & (df['sex'] == sex) & (df['oldpeak'].isnull()), 'oldpeak']=a \n",
    "            df.loc[(df['cp'] == cp) & (df['sex'] == sex) & (df['exang'].isnull()), 'exang']=b\n",
    "            df.loc[(df['cp'] == cp) & (df['sex'] == sex) & (df['thalach'].isnull()), 'thalach']=c\n",
    "            df.loc[(df['cp'] == cp) & (df['sex'] == sex) & (df['trestbps'].isnull()),'trestbps']=d \n"
   ]
  },
  {
   "cell_type": "markdown",
   "metadata": {},
   "source": [
    "### now all data cleaned"
   ]
  },
  {
   "cell_type": "code",
   "execution_count": 383,
   "metadata": {
    "collapsed": false
   },
   "outputs": [
    {
     "name": "stdout",
     "output_type": "stream",
     "text": [
      "<class 'pandas.core.frame.DataFrame'>\n",
      "RangeIndex: 100 entries, 0 to 99\n",
      "Data columns (total 12 columns):\n",
      "id          100 non-null float64\n",
      "age         100 non-null float64\n",
      "sex         100 non-null float64\n",
      "cp          100 non-null float64\n",
      "trestbps    100 non-null float64\n",
      "chol        100 non-null float64\n",
      "fbs         100 non-null float64\n",
      "restecg     100 non-null float64\n",
      "thalach     100 non-null float64\n",
      "exang       100 non-null float64\n",
      "oldpeak     100 non-null float64\n",
      "num         0 non-null float64\n",
      "dtypes: float64(12)\n",
      "memory usage: 9.5 KB\n"
     ]
    }
   ],
   "source": [
    "df_submission.info()"
   ]
  },
  {
   "cell_type": "code",
   "execution_count": 384,
   "metadata": {
    "collapsed": false
   },
   "outputs": [
    {
     "name": "stdout",
     "output_type": "stream",
     "text": [
      "<class 'pandas.core.frame.DataFrame'>\n",
      "Int64Index: 516 entries, 0 to 819\n",
      "Data columns (total 11 columns):\n",
      "age         516 non-null float64\n",
      "sex         516 non-null float64\n",
      "cp          516 non-null float64\n",
      "trestbps    516 non-null float64\n",
      "chol        516 non-null float64\n",
      "fbs         516 non-null float64\n",
      "restecg     516 non-null float64\n",
      "thalach     516 non-null float64\n",
      "exang       516 non-null float64\n",
      "oldpeak     516 non-null float64\n",
      "num         516 non-null float64\n",
      "dtypes: float64(11)\n",
      "memory usage: 48.4 KB\n"
     ]
    }
   ],
   "source": [
    "df_train.info()"
   ]
  },
  {
   "cell_type": "code",
   "execution_count": 385,
   "metadata": {
    "collapsed": false
   },
   "outputs": [
    {
     "name": "stdout",
     "output_type": "stream",
     "text": [
      "age \n",
      " 54.0    34\n",
      "59.0    27\n",
      "58.0    27\n",
      "57.0    27\n",
      "53.0    25\n",
      "52.0    24\n",
      "55.0    23\n",
      "51.0    22\n",
      "56.0    21\n",
      "48.0    21\n",
      "41.0    21\n",
      "62.0    21\n",
      "46.0    20\n",
      "60.0    19\n",
      "50.0    17\n",
      "43.0    17\n",
      "42.0    16\n",
      "61.0    15\n",
      "45.0    15\n",
      "49.0    15\n",
      "44.0    14\n",
      "47.0    14\n",
      "63.0    13\n",
      "39.0    13\n",
      "64.0    13\n",
      "38.0    12\n",
      "37.0    11\n",
      "65.0    11\n",
      "40.0    10\n",
      "35.0     9\n",
      "66.0     8\n",
      "67.0     7\n",
      "34.0     7\n",
      "36.0     6\n",
      "68.0     5\n",
      "69.0     5\n",
      "74.0     4\n",
      "71.0     4\n",
      "32.0     4\n",
      "70.0     3\n",
      "75.0     3\n",
      "29.0     3\n",
      "33.0     2\n",
      "72.0     2\n",
      "31.0     2\n",
      "76.0     1\n",
      "30.0     1\n",
      "28.0     1\n",
      "73.0     1\n",
      "Name: age, dtype: int64 \n",
      "\n",
      "chol \n",
      " 0.0      89\n",
      "220.0    13\n",
      "216.0     9\n",
      "211.0     8\n",
      "240.0     8\n",
      "244.0     7\n",
      "197.0     7\n",
      "223.0     7\n",
      "207.0     6\n",
      "213.0     6\n",
      "249.0     6\n",
      "243.0     6\n",
      "235.0     6\n",
      "226.0     6\n",
      "204.0     6\n",
      "275.0     6\n",
      "196.0     6\n",
      "201.0     6\n",
      "263.0     6\n",
      "283.0     5\n",
      "215.0     5\n",
      "233.0     5\n",
      "245.0     5\n",
      "198.0     5\n",
      "230.0     5\n",
      "277.0     5\n",
      "250.0     5\n",
      "160.0     5\n",
      "225.0     5\n",
      "269.0     5\n",
      "         ..\n",
      "299.0     1\n",
      "259.0     1\n",
      "251.0     1\n",
      "331.0     1\n",
      "393.0     1\n",
      "417.0     1\n",
      "161.0     1\n",
      "328.0     1\n",
      "360.0     1\n",
      "172.0     1\n",
      "312.0     1\n",
      "129.0     1\n",
      "344.0     1\n",
      "272.0     1\n",
      "132.0     1\n",
      "242.0     1\n",
      "322.0     1\n",
      "85.0      1\n",
      "466.0     1\n",
      "126.0     1\n",
      "458.0     1\n",
      "365.0     1\n",
      "384.0     1\n",
      "190.0     1\n",
      "339.0     1\n",
      "321.0     1\n",
      "349.0     1\n",
      "281.0     1\n",
      "347.0     1\n",
      "156.0     1\n",
      "Name: chol, dtype: int64 \n",
      "\n",
      "cp \n",
      " 4.0    264\n",
      "2.0    162\n",
      "3.0    157\n",
      "1.0     33\n",
      "Name: cp, dtype: int64 \n",
      "\n",
      "exang \n",
      " 0.0    442\n",
      "1.0    174\n",
      "Name: exang, dtype: int64 \n",
      "\n",
      "fbs \n",
      " 0.0    540\n",
      "1.0     76\n",
      "Name: fbs, dtype: int64 \n",
      "\n",
      "id \n",
      " NaN      516\n",
      " 36.0      1\n",
      " 26.0      1\n",
      " 27.0      1\n",
      " 28.0      1\n",
      " 29.0      1\n",
      " 30.0      1\n",
      " 31.0      1\n",
      " 32.0      1\n",
      " 33.0      1\n",
      " 34.0      1\n",
      " 35.0      1\n",
      " 37.0      1\n",
      " 49.0      1\n",
      " 38.0      1\n",
      " 39.0      1\n",
      " 40.0      1\n",
      " 41.0      1\n",
      " 42.0      1\n",
      " 43.0      1\n",
      " 44.0      1\n",
      " 45.0      1\n",
      " 46.0      1\n",
      " 47.0      1\n",
      " 25.0      1\n",
      " 24.0      1\n",
      " 23.0      1\n",
      " 22.0      1\n",
      " 1.0       1\n",
      " 2.0       1\n",
      "        ... \n",
      " 95.0      1\n",
      " 96.0      1\n",
      " 97.0      1\n",
      " 98.0      1\n",
      " 76.0      1\n",
      " 75.0      1\n",
      " 74.0      1\n",
      " 73.0      1\n",
      " 52.0      1\n",
      " 53.0      1\n",
      " 54.0      1\n",
      " 55.0      1\n",
      " 56.0      1\n",
      " 57.0      1\n",
      " 58.0      1\n",
      " 59.0      1\n",
      " 60.0      1\n",
      " 61.0      1\n",
      " 62.0      1\n",
      " 63.0      1\n",
      " 64.0      1\n",
      " 65.0      1\n",
      " 66.0      1\n",
      " 67.0      1\n",
      " 68.0      1\n",
      " 69.0      1\n",
      " 70.0      1\n",
      " 71.0      1\n",
      " 72.0      1\n",
      " 50.0      1\n",
      "Name: id, dtype: int64 \n",
      "\n",
      "num \n",
      "  0.0    354\n",
      " 1.0    162\n",
      "NaN     100\n",
      "Name: num, dtype: int64 \n",
      "\n",
      "oldpeak \n",
      "  0.0    317\n",
      " 1.0     53\n",
      " 1.5     32\n",
      " 2.0     31\n",
      " 0.8     15\n",
      " 0.5     14\n",
      " 0.2     13\n",
      " 0.6     13\n",
      " 1.2     12\n",
      " 1.6     11\n",
      " 0.4     10\n",
      " 1.8     10\n",
      " 1.4     10\n",
      " 3.0      9\n",
      " 2.5      7\n",
      " 0.1      6\n",
      " 1.3      5\n",
      " 0.7      5\n",
      " 0.3      5\n",
      " 1.1      4\n",
      " 2.6      3\n",
      " 1.9      3\n",
      " 2.4      3\n",
      " 2.3      2\n",
      "-0.5      2\n",
      " 1.7      2\n",
      " 0.9      2\n",
      " 2.2      2\n",
      "-0.1      1\n",
      " 2.8      1\n",
      " 3.6      1\n",
      " 3.1      1\n",
      "-1.0      1\n",
      " 3.5      1\n",
      "-1.5      1\n",
      " 4.0      1\n",
      "-1.1      1\n",
      " 2.1      1\n",
      "-0.8      1\n",
      " 3.4      1\n",
      "-2.6      1\n",
      " 4.2      1\n",
      "-0.9      1\n",
      "Name: oldpeak, dtype: int64 \n",
      "\n",
      "restecg \n",
      " 0.0    398\n",
      "2.0    128\n",
      "1.0     90\n",
      "Name: restecg, dtype: int64 \n",
      "\n",
      "sex \n",
      " 1.0    447\n",
      "0.0    169\n",
      "Name: sex, dtype: int64 \n",
      "\n",
      "thalach \n",
      " 150.0    31\n",
      "140.0    28\n",
      "160.0    24\n",
      "120.0    24\n",
      "130.0    18\n",
      "170.0    17\n",
      "110.0    17\n",
      "138.0    14\n",
      "122.0    13\n",
      "115.0    11\n",
      "155.0    11\n",
      "162.0    11\n",
      "152.0    11\n",
      "172.0    10\n",
      "125.0    10\n",
      "142.0    10\n",
      "154.0    10\n",
      "180.0     9\n",
      "175.0     9\n",
      "163.0     9\n",
      "165.0     9\n",
      "148.0     9\n",
      "144.0     9\n",
      "145.0     8\n",
      "158.0     7\n",
      "100.0     7\n",
      "105.0     7\n",
      "143.0     7\n",
      "168.0     7\n",
      "174.0     7\n",
      "         ..\n",
      "88.0      2\n",
      "181.0     2\n",
      "167.0     2\n",
      "129.0     2\n",
      "190.0     2\n",
      "94.0      2\n",
      "188.0     2\n",
      "97.0      2\n",
      "186.0     2\n",
      "93.0      2\n",
      "113.0     2\n",
      "99.0      2\n",
      "111.0     2\n",
      "90.0      2\n",
      "72.0      1\n",
      "195.0     1\n",
      "176.0     1\n",
      "177.0     1\n",
      "119.0     1\n",
      "187.0     1\n",
      "202.0     1\n",
      "194.0     1\n",
      "82.0      1\n",
      "80.0      1\n",
      "108.0     1\n",
      "192.0     1\n",
      "69.0      1\n",
      "107.0     1\n",
      "87.0      1\n",
      "133.5     1\n",
      "Name: thalach, dtype: int64 \n",
      "\n",
      "trestbps \n",
      " 120.0    100\n",
      "130.0     92\n",
      "140.0     72\n",
      "110.0     48\n",
      "150.0     36\n",
      "160.0     31\n",
      "125.0     21\n",
      "115.0     15\n",
      "100.0     13\n",
      "138.0     11\n",
      "128.0     11\n",
      "112.0     10\n",
      "124.0     10\n",
      "135.0     10\n",
      "180.0      9\n",
      "118.0      8\n",
      "170.0      8\n",
      "132.0      8\n",
      "122.0      8\n",
      "145.0      8\n",
      "105.0      8\n",
      "108.0      7\n",
      "142.0      6\n",
      "152.0      6\n",
      "126.0      6\n",
      "134.0      5\n",
      "158.0      4\n",
      "155.0      4\n",
      "106.0      3\n",
      "102.0      3\n",
      "95.0       3\n",
      "136.0      3\n",
      "154.0      2\n",
      "104.0      2\n",
      "144.0      2\n",
      "94.0       2\n",
      "146.0      2\n",
      "178.0      2\n",
      "172.0      1\n",
      "80.0       1\n",
      "185.0      1\n",
      "113.0      1\n",
      "190.0      1\n",
      "98.0       1\n",
      "174.0      1\n",
      "114.0      1\n",
      "156.0      1\n",
      "129.0      1\n",
      "96.0       1\n",
      "92.0       1\n",
      "192.0      1\n",
      "101.0      1\n",
      "127.0      1\n",
      "148.0      1\n",
      "165.0      1\n",
      "Name: trestbps, dtype: int64 \n",
      "\n"
     ]
    }
   ],
   "source": [
    "la=pd.concat(combine)\n",
    "for c in la.columns:\n",
    "    print(c, '\\n', la[c].value_counts(dropna=False),'\\n')"
   ]
  },
  {
   "cell_type": "markdown",
   "metadata": {},
   "source": [
    "## more data work now (encoding, categorizing, etc)"
   ]
  },
  {
   "cell_type": "code",
   "execution_count": 392,
   "metadata": {
    "collapsed": false
   },
   "outputs": [
    {
     "name": "stdout",
     "output_type": "stream",
     "text": [
      "18 206 281 11\n",
      "2 25 66 7\n"
     ]
    }
   ],
   "source": [
    "# change 'age' column into ordinal categories\n",
    "\n",
    "for df in combine:\n",
    "    a=sum(df['age'] <= 34) # millenial\n",
    "    b=sum((df['age'] >= 35) & (df['age'] <= 50)) # gen x\n",
    "    c=sum((df['age'] >= 51) & (df['age'] <= 69)) # boomer\n",
    "    d=sum(df['age'] >= 70) # silent\n",
    "\n",
    "    print(a,b,c,d)\n",
    "    \n",
    "    \n",
    "for df in combine:\n",
    "    df.loc[df['age'] <= 34, 'age'] = 1\n",
    "    df.loc[(df['age'] >= 35) & (df['age'] <= 50), 'age'] = 2\n",
    "    df.loc[(df['age'] >= 51) & (df['age'] <= 69), 'age'] = 3\n",
    "    df.loc[df['age'] >= 70, 'age'] = 4"
   ]
  },
  {
   "cell_type": "code",
   "execution_count": 387,
   "metadata": {
    "collapsed": false
   },
   "outputs": [],
   "source": [
    "# change oldpeak to binary\n",
    "for df in combine:\n",
    "    df.loc[df['oldpeak'] != 0, 'oldpeak'] = 1"
   ]
  },
  {
   "cell_type": "code",
   "execution_count": 388,
   "metadata": {
    "collapsed": false
   },
   "outputs": [
    {
     "name": "stdout",
     "output_type": "stream",
     "text": [
      "112 239 165\n",
      "17 48 35\n"
     ]
    }
   ],
   "source": [
    "# categorizing resting blood pressure\n",
    "\n",
    "for df in combine:\n",
    "    a=sum(df['trestbps'] < 120) # normal\n",
    "    b=sum((df['trestbps'] >= 120) & (df['trestbps'] < 140)) # risk\n",
    "    c=sum(df['trestbps'] >= 140) # high\n",
    "    print(a,b,c)"
   ]
  },
  {
   "cell_type": "code",
   "execution_count": 389,
   "metadata": {
    "collapsed": true
   },
   "outputs": [],
   "source": [
    "# we can see that we have a good amount of numbers in each category\n",
    "\n",
    "for df in combine:\n",
    "    df.loc[(df['trestbps'] < 120), 'trestbps'] = 1 # normal\n",
    "    df.loc[(df['trestbps'] >= 120) & (df['trestbps'] < 140), 'trestbps'] = 2 # risk\n",
    "    df.loc[(df['trestbps'] >= 140), 'trestbps'] = 3 # high"
   ]
  },
  {
   "cell_type": "code",
   "execution_count": 390,
   "metadata": {
    "collapsed": false
   },
   "outputs": [
    {
     "name": "stdout",
     "output_type": "stream",
     "text": [
      "155 153 208\n",
      "30 28 42\n"
     ]
    }
   ],
   "source": [
    "# categorizing total cholesterol (serum cholesterol)\n",
    "\n",
    "for df in combine:\n",
    "    a=sum(df['chol'] < 200) # normal\n",
    "    b=sum((df['chol'] >= 200) & (df['chol'] < 240)) # risk\n",
    "    c=sum(df['chol'] >= 240) # high\n",
    "    print(a,b,c)"
   ]
  },
  {
   "cell_type": "code",
   "execution_count": 391,
   "metadata": {
    "collapsed": true
   },
   "outputs": [],
   "source": [
    "# we can see that we have a good amount of numbers in each category\n",
    "for df in combine:\n",
    "    df.loc[(df['chol'] < 200), 'chol'] = 1 # normal\n",
    "    df.loc[(df['chol'] >= 200) & (df['chol'] < 240), 'chol'] = 2 # risk\n",
    "    df.loc[(df['chol'] >= 240), 'chol'] = 3 # high"
   ]
  },
  {
   "cell_type": "code",
   "execution_count": null,
   "metadata": {
    "collapsed": true
   },
   "outputs": [],
   "source": []
  },
  {
   "cell_type": "code",
   "execution_count": 393,
   "metadata": {
    "collapsed": true
   },
   "outputs": [],
   "source": [
    "# artificial feature\n",
    "for df in combine:\n",
    "    df['chol*trestbps'] = (df['chol'] * df['trestbps']).astype(np.int8)"
   ]
  },
  {
   "cell_type": "code",
   "execution_count": null,
   "metadata": {
    "collapsed": true
   },
   "outputs": [],
   "source": []
  },
  {
   "cell_type": "code",
   "execution_count": null,
   "metadata": {
    "collapsed": true
   },
   "outputs": [],
   "source": [
    "# check how well performance is if we perform one-hot-encoding"
   ]
  },
  {
   "cell_type": "code",
   "execution_count": 394,
   "metadata": {
    "collapsed": false
   },
   "outputs": [
    {
     "data": {
      "text/html": [
       "<div>\n",
       "<table border=\"1\" class=\"dataframe\">\n",
       "  <thead>\n",
       "    <tr style=\"text-align: right;\">\n",
       "      <th></th>\n",
       "      <th>age</th>\n",
       "      <th>sex</th>\n",
       "      <th>cp</th>\n",
       "      <th>trestbps</th>\n",
       "      <th>chol</th>\n",
       "      <th>fbs</th>\n",
       "      <th>restecg</th>\n",
       "      <th>thalach</th>\n",
       "      <th>exang</th>\n",
       "      <th>oldpeak</th>\n",
       "      <th>num</th>\n",
       "      <th>chol*trestbps</th>\n",
       "    </tr>\n",
       "  </thead>\n",
       "  <tbody>\n",
       "    <tr>\n",
       "      <th>0</th>\n",
       "      <td>2.0</td>\n",
       "      <td>1.0</td>\n",
       "      <td>2.0</td>\n",
       "      <td>2.0</td>\n",
       "      <td>3.0</td>\n",
       "      <td>0.0</td>\n",
       "      <td>0.0</td>\n",
       "      <td>160.0</td>\n",
       "      <td>0.0</td>\n",
       "      <td>1.0</td>\n",
       "      <td>1.0</td>\n",
       "      <td>6</td>\n",
       "    </tr>\n",
       "    <tr>\n",
       "      <th>3</th>\n",
       "      <td>2.0</td>\n",
       "      <td>1.0</td>\n",
       "      <td>2.0</td>\n",
       "      <td>1.0</td>\n",
       "      <td>2.0</td>\n",
       "      <td>0.0</td>\n",
       "      <td>0.0</td>\n",
       "      <td>100.0</td>\n",
       "      <td>0.0</td>\n",
       "      <td>0.0</td>\n",
       "      <td>0.0</td>\n",
       "      <td>2</td>\n",
       "    </tr>\n",
       "    <tr>\n",
       "      <th>4</th>\n",
       "      <td>2.0</td>\n",
       "      <td>0.0</td>\n",
       "      <td>2.0</td>\n",
       "      <td>2.0</td>\n",
       "      <td>1.0</td>\n",
       "      <td>0.0</td>\n",
       "      <td>0.0</td>\n",
       "      <td>180.0</td>\n",
       "      <td>0.0</td>\n",
       "      <td>0.0</td>\n",
       "      <td>0.0</td>\n",
       "      <td>2</td>\n",
       "    </tr>\n",
       "    <tr>\n",
       "      <th>5</th>\n",
       "      <td>3.0</td>\n",
       "      <td>1.0</td>\n",
       "      <td>4.0</td>\n",
       "      <td>2.0</td>\n",
       "      <td>1.0</td>\n",
       "      <td>0.0</td>\n",
       "      <td>2.0</td>\n",
       "      <td>106.0</td>\n",
       "      <td>1.0</td>\n",
       "      <td>1.0</td>\n",
       "      <td>1.0</td>\n",
       "      <td>2</td>\n",
       "    </tr>\n",
       "    <tr>\n",
       "      <th>6</th>\n",
       "      <td>3.0</td>\n",
       "      <td>1.0</td>\n",
       "      <td>4.0</td>\n",
       "      <td>3.0</td>\n",
       "      <td>3.0</td>\n",
       "      <td>0.0</td>\n",
       "      <td>0.0</td>\n",
       "      <td>155.0</td>\n",
       "      <td>0.0</td>\n",
       "      <td>0.0</td>\n",
       "      <td>0.0</td>\n",
       "      <td>9</td>\n",
       "    </tr>\n",
       "  </tbody>\n",
       "</table>\n",
       "</div>"
      ],
      "text/plain": [
       "   age  sex   cp  trestbps  chol  fbs  restecg  thalach  exang  oldpeak  num  \\\n",
       "0  2.0  1.0  2.0       2.0   3.0  0.0      0.0    160.0    0.0      1.0  1.0   \n",
       "3  2.0  1.0  2.0       1.0   2.0  0.0      0.0    100.0    0.0      0.0  0.0   \n",
       "4  2.0  0.0  2.0       2.0   1.0  0.0      0.0    180.0    0.0      0.0  0.0   \n",
       "5  3.0  1.0  4.0       2.0   1.0  0.0      2.0    106.0    1.0      1.0  1.0   \n",
       "6  3.0  1.0  4.0       3.0   3.0  0.0      0.0    155.0    0.0      0.0  0.0   \n",
       "\n",
       "   chol*trestbps  \n",
       "0              6  \n",
       "3              2  \n",
       "4              2  \n",
       "5              2  \n",
       "6              9  "
      ]
     },
     "execution_count": 394,
     "metadata": {},
     "output_type": "execute_result"
    }
   ],
   "source": [
    "df_train.head()"
   ]
  },
  {
   "cell_type": "code",
   "execution_count": 395,
   "metadata": {
    "collapsed": true
   },
   "outputs": [],
   "source": [
    "df_train_copy = df_train.copy()\n",
    "df_submission_copy = df_submission.copy()\n",
    "combine_copy = [df_train_copy, df_submission_copy]"
   ]
  },
  {
   "cell_type": "code",
   "execution_count": 396,
   "metadata": {
    "collapsed": false
   },
   "outputs": [],
   "source": [
    "one_hot_col = ['age', 'cp', 'trestbps', 'chol', 'restecg', 'chol*trestbps']\n",
    "for df in combine_copy:\n",
    "    for col in one_hot_col:\n",
    "        temp=pd.get_dummies(df[col], prefix=col, drop_first=True)\n",
    "        df.drop(col, axis=1, inplace=True)\n",
    "        df[temp.columns] = temp"
   ]
  },
  {
   "cell_type": "code",
   "execution_count": 397,
   "metadata": {
    "collapsed": false
   },
   "outputs": [
    {
     "data": {
      "text/html": [
       "<div>\n",
       "<table border=\"1\" class=\"dataframe\">\n",
       "  <thead>\n",
       "    <tr style=\"text-align: right;\">\n",
       "      <th></th>\n",
       "      <th>sex</th>\n",
       "      <th>fbs</th>\n",
       "      <th>thalach</th>\n",
       "      <th>exang</th>\n",
       "      <th>oldpeak</th>\n",
       "      <th>num</th>\n",
       "      <th>age_2.0</th>\n",
       "      <th>age_3.0</th>\n",
       "      <th>age_4.0</th>\n",
       "      <th>cp_2.0</th>\n",
       "      <th>...</th>\n",
       "      <th>trestbps_3.0</th>\n",
       "      <th>chol_2.0</th>\n",
       "      <th>chol_3.0</th>\n",
       "      <th>restecg_1.0</th>\n",
       "      <th>restecg_2.0</th>\n",
       "      <th>chol*trestbps_2</th>\n",
       "      <th>chol*trestbps_3</th>\n",
       "      <th>chol*trestbps_4</th>\n",
       "      <th>chol*trestbps_6</th>\n",
       "      <th>chol*trestbps_9</th>\n",
       "    </tr>\n",
       "  </thead>\n",
       "  <tbody>\n",
       "    <tr>\n",
       "      <th>0</th>\n",
       "      <td>1.0</td>\n",
       "      <td>0.0</td>\n",
       "      <td>160.0</td>\n",
       "      <td>0.0</td>\n",
       "      <td>1.0</td>\n",
       "      <td>1.0</td>\n",
       "      <td>1</td>\n",
       "      <td>0</td>\n",
       "      <td>0</td>\n",
       "      <td>1</td>\n",
       "      <td>...</td>\n",
       "      <td>0</td>\n",
       "      <td>0</td>\n",
       "      <td>1</td>\n",
       "      <td>0</td>\n",
       "      <td>0</td>\n",
       "      <td>0</td>\n",
       "      <td>0</td>\n",
       "      <td>0</td>\n",
       "      <td>1</td>\n",
       "      <td>0</td>\n",
       "    </tr>\n",
       "    <tr>\n",
       "      <th>3</th>\n",
       "      <td>1.0</td>\n",
       "      <td>0.0</td>\n",
       "      <td>100.0</td>\n",
       "      <td>0.0</td>\n",
       "      <td>0.0</td>\n",
       "      <td>0.0</td>\n",
       "      <td>1</td>\n",
       "      <td>0</td>\n",
       "      <td>0</td>\n",
       "      <td>1</td>\n",
       "      <td>...</td>\n",
       "      <td>0</td>\n",
       "      <td>1</td>\n",
       "      <td>0</td>\n",
       "      <td>0</td>\n",
       "      <td>0</td>\n",
       "      <td>1</td>\n",
       "      <td>0</td>\n",
       "      <td>0</td>\n",
       "      <td>0</td>\n",
       "      <td>0</td>\n",
       "    </tr>\n",
       "    <tr>\n",
       "      <th>4</th>\n",
       "      <td>0.0</td>\n",
       "      <td>0.0</td>\n",
       "      <td>180.0</td>\n",
       "      <td>0.0</td>\n",
       "      <td>0.0</td>\n",
       "      <td>0.0</td>\n",
       "      <td>1</td>\n",
       "      <td>0</td>\n",
       "      <td>0</td>\n",
       "      <td>1</td>\n",
       "      <td>...</td>\n",
       "      <td>0</td>\n",
       "      <td>0</td>\n",
       "      <td>0</td>\n",
       "      <td>0</td>\n",
       "      <td>0</td>\n",
       "      <td>1</td>\n",
       "      <td>0</td>\n",
       "      <td>0</td>\n",
       "      <td>0</td>\n",
       "      <td>0</td>\n",
       "    </tr>\n",
       "    <tr>\n",
       "      <th>5</th>\n",
       "      <td>1.0</td>\n",
       "      <td>0.0</td>\n",
       "      <td>106.0</td>\n",
       "      <td>1.0</td>\n",
       "      <td>1.0</td>\n",
       "      <td>1.0</td>\n",
       "      <td>0</td>\n",
       "      <td>1</td>\n",
       "      <td>0</td>\n",
       "      <td>0</td>\n",
       "      <td>...</td>\n",
       "      <td>0</td>\n",
       "      <td>0</td>\n",
       "      <td>0</td>\n",
       "      <td>0</td>\n",
       "      <td>1</td>\n",
       "      <td>1</td>\n",
       "      <td>0</td>\n",
       "      <td>0</td>\n",
       "      <td>0</td>\n",
       "      <td>0</td>\n",
       "    </tr>\n",
       "    <tr>\n",
       "      <th>6</th>\n",
       "      <td>1.0</td>\n",
       "      <td>0.0</td>\n",
       "      <td>155.0</td>\n",
       "      <td>0.0</td>\n",
       "      <td>0.0</td>\n",
       "      <td>0.0</td>\n",
       "      <td>0</td>\n",
       "      <td>1</td>\n",
       "      <td>0</td>\n",
       "      <td>0</td>\n",
       "      <td>...</td>\n",
       "      <td>1</td>\n",
       "      <td>0</td>\n",
       "      <td>1</td>\n",
       "      <td>0</td>\n",
       "      <td>0</td>\n",
       "      <td>0</td>\n",
       "      <td>0</td>\n",
       "      <td>0</td>\n",
       "      <td>0</td>\n",
       "      <td>1</td>\n",
       "    </tr>\n",
       "  </tbody>\n",
       "</table>\n",
       "<p>5 rows × 23 columns</p>\n",
       "</div>"
      ],
      "text/plain": [
       "   sex  fbs  thalach  exang  oldpeak  num  age_2.0  age_3.0  age_4.0  cp_2.0  \\\n",
       "0  1.0  0.0    160.0    0.0      1.0  1.0        1        0        0       1   \n",
       "3  1.0  0.0    100.0    0.0      0.0  0.0        1        0        0       1   \n",
       "4  0.0  0.0    180.0    0.0      0.0  0.0        1        0        0       1   \n",
       "5  1.0  0.0    106.0    1.0      1.0  1.0        0        1        0       0   \n",
       "6  1.0  0.0    155.0    0.0      0.0  0.0        0        1        0       0   \n",
       "\n",
       "        ...         trestbps_3.0  chol_2.0  chol_3.0  restecg_1.0  \\\n",
       "0       ...                    0         0         1            0   \n",
       "3       ...                    0         1         0            0   \n",
       "4       ...                    0         0         0            0   \n",
       "5       ...                    0         0         0            0   \n",
       "6       ...                    1         0         1            0   \n",
       "\n",
       "   restecg_2.0  chol*trestbps_2  chol*trestbps_3  chol*trestbps_4  \\\n",
       "0            0                0                0                0   \n",
       "3            0                1                0                0   \n",
       "4            0                1                0                0   \n",
       "5            1                1                0                0   \n",
       "6            0                0                0                0   \n",
       "\n",
       "   chol*trestbps_6  chol*trestbps_9  \n",
       "0                1                0  \n",
       "3                0                0  \n",
       "4                0                0  \n",
       "5                0                0  \n",
       "6                0                1  \n",
       "\n",
       "[5 rows x 23 columns]"
      ]
     },
     "execution_count": 397,
     "metadata": {},
     "output_type": "execute_result"
    }
   ],
   "source": [
    "df_train_copy.head()"
   ]
  },
  {
   "cell_type": "code",
   "execution_count": 398,
   "metadata": {
    "collapsed": false
   },
   "outputs": [
    {
     "data": {
      "text/plain": [
       "3.0    66\n",
       "2.0    25\n",
       "4.0     7\n",
       "1.0     2\n",
       "Name: age, dtype: int64"
      ]
     },
     "execution_count": 398,
     "metadata": {},
     "output_type": "execute_result"
    }
   ],
   "source": [
    "df_submission['age'].value_counts()"
   ]
  },
  {
   "cell_type": "code",
   "execution_count": 399,
   "metadata": {
    "collapsed": true
   },
   "outputs": [],
   "source": [
    "# save one-hot-encoded data\n",
    "df_train_copy.to_csv('cleaned_train_data_encoded.csv', index=False)\n",
    "df_submission_copy.to_csv('cleaned_submission_data_encoded.csv', index=False)"
   ]
  },
  {
   "cell_type": "code",
   "execution_count": 400,
   "metadata": {
    "collapsed": true
   },
   "outputs": [],
   "source": [
    "# save cleaned data\n",
    "df_train.to_csv('cleaned_train_data.csv', index=False)\n",
    "df_submission.to_csv('cleaned_submission_data.csv', index=False)"
   ]
  },
  {
   "cell_type": "code",
   "execution_count": null,
   "metadata": {
    "collapsed": true
   },
   "outputs": [],
   "source": []
  },
  {
   "cell_type": "markdown",
   "metadata": {
    "deletable": true,
    "editable": true
   },
   "source": [
    "## Medical meta-data \n",
    "\n",
    "\n",
    "cp: chest pain type\n",
    "        -- Value 1: typical angina\n",
    "        -- Value 2: atypical angina\n",
    "        -- Value 3: non-anginal pain\n",
    "        -- Value 4: asymptomatic\n",
    "        \n",
    "trestbps: resting blood pressure (in mm Hg on admission to the \n",
    "        hospital)\n",
    "\n",
    "chol: serum cholestoral in mg/dl\n",
    "\n",
    "fbs: (fasting blood sugar > 120 mg/dl)  (1 = true; 0 = false)\n",
    "\n",
    "restecg: resting electrocardiographic results\n",
    "        -- Value 0: normal\n",
    "        -- Value 1: having ST-T wave abnormality (T wave inversions and/or ST \n",
    "                    elevation or depression of > 0.05 mV)\n",
    "        -- Value 2: showing probable or definite left ventricular hypertrophy\n",
    "                    by Estes' criteria\n",
    "\n",
    "thalach: maximum heart rate achieved\n",
    "\n",
    "exang: exercise induced angina (1 = yes; 0 = no)\n",
    "\n",
    "oldpeak = ST depression induced by exercise relative to rest\n",
    "\n",
    "slope: the slope of the peak exercise ST segment\n",
    "        -- Value 1: upsloping\n",
    "        -- Value 2: flat\n",
    "        -- Value 3: downsloping\n",
    "        \n",
    "ca: number of major vessels (0-3) colored by flourosopy\n",
    "\n",
    "thal: 3 = normal; 6 = fixed defect; 7 = reversable defect\n",
    "\n",
    "num: diagnosis of heart disease (angiographic disease status)\n",
    "        -- Value 0: < 50% diameter narrowing\n",
    "        -- Value 1: > 50% diameter narrowing\n",
    "        (in any major vessel: attributes 59 through 68 are vessels)"
   ]
  }
 ],
 "metadata": {
  "anaconda-cloud": {},
  "kernelspec": {
   "display_name": "Python [default]",
   "language": "python",
   "name": "python3"
  },
  "language_info": {
   "codemirror_mode": {
    "name": "ipython",
    "version": 3
   },
   "file_extension": ".py",
   "mimetype": "text/x-python",
   "name": "python",
   "nbconvert_exporter": "python",
   "pygments_lexer": "ipython3",
   "version": "3.5.2"
  }
 },
 "nbformat": 4,
 "nbformat_minor": 2
}
